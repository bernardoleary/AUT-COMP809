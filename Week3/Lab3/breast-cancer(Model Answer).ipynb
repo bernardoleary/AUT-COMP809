{
 "cells": [
  {
   "cell_type": "code",
   "execution_count": 2,
   "id": "46035c25-bf4a-4aa0-a09f-53378fbae77a",
   "metadata": {},
   "outputs": [
    {
     "name": "stdout",
     "output_type": "stream",
     "text": [
      "48 15 12 11\n",
      "Accuracy score of our model with Decision Tree: 0.686046511627907\n",
      "Precision score for class 0 with Decision Tree : 0.8\n",
      "Recall score for class 0  with Decision Tree : 0.7619047619047619\n",
      "Precision score for class 1 with Decision Tree : 0.4230769230769231\n",
      "Recall score for class 1  with Decision Tree : 0.4782608695652174\n"
     ]
    }
   ],
   "source": [
    "import pandas as pd\n",
    "import numpy as np\n",
    "import matplotlib.pyplot as plt\n",
    "from sklearn.model_selection import train_test_split, cross_val_score\n",
    "from sklearn.tree import DecisionTreeClassifier\n",
    "from sklearn.metrics import precision_score, recall_score,auc\n",
    "from sklearn.preprocessing import LabelEncoder\n",
    "from sklearn.preprocessing import OneHotEncoder\n",
    "from sklearn.compose import ColumnTransformer\n",
    "from sklearn.metrics import accuracy_score,confusion_matrix\n",
    "\n",
    "path=\"../../Week3/Lab3/breast-cancer.xlsx\"\n",
    "rawdata= pd.read_excel(path)\n",
    "#print(rawdata)\n",
    "#print (\"data summary\")\n",
    "#print (rawdata.describe())\n",
    "nrow, ncol = rawdata.shape\n",
    "#print (nrow, ncol)\n",
    "\n",
    "\n",
    "class_le = LabelEncoder()\n",
    "y = class_le.fit_transform(rawdata['class'].values)\n",
    "#print(y)\n",
    "\n",
    "X= rawdata[['age', 'menopause', 'tumor-size','inv-nodes','node-caps','deg-malig','breast','breast-quad','irradiat']].values\n",
    "ohe = ColumnTransformer([('anyname', OneHotEncoder(), [0,1,2,3,4,5,6,7,8])], remainder = 'passthrough')\n",
    "#print (ohe.fit_transform(X))\n",
    "newdata = ohe.fit_transform(X)\n",
    "#print(newdata)\n",
    "\n",
    "predictors = newdata\n",
    "target = y\n",
    "pred_train, pred_test, tar_train, tar_test  = train_test_split(predictors, target, test_size=.3)\n",
    "#print(predictors)\n",
    "#print(target)\n",
    "\n",
    "# Decision Tree\n",
    "classifier = DecisionTreeClassifier(criterion=\"entropy\", random_state=999, min_samples_split=4)\n",
    "classifier = classifier.fit(pred_train, tar_train)\n",
    "predictions = classifier.predict(pred_test)\n",
    "prob = classifier.predict_proba(pred_test)\n",
    "tn, fp, fn, tp = confusion_matrix(tar_test,predictions).ravel()\n",
    "print(tn, fp, fn, tp)\n",
    "\n",
    "print(\"Accuracy score of our model with Decision Tree:\", accuracy_score(tar_test, predictions))\n",
    "for x in range(2):\n",
    "    precision = precision_score(y_true=tar_test, y_pred=predictions,average='binary', pos_label=x)\n",
    "    print(\"Precision score for class\", x, \"with Decision Tree :\", precision)\n",
    "    recall = recall_score(y_true=tar_test, y_pred=predictions,average='binary', pos_label=x)\n",
    "    print(\"Recall score for class\", x, \" with Decision Tree :\", recall)\n",
    "\n",
    "\n",
    "\n"
   ]
  },
  {
   "cell_type": "code",
   "execution_count": null,
   "id": "c05a88bb-6a26-4bf6-a7c0-218603f7be07",
   "metadata": {},
   "outputs": [],
   "source": []
  }
 ],
 "metadata": {
  "kernelspec": {
   "display_name": "Python 3 (ipykernel)",
   "language": "python",
   "name": "python3"
  },
  "language_info": {
   "codemirror_mode": {
    "name": "ipython",
    "version": 3
   },
   "file_extension": ".py",
   "mimetype": "text/x-python",
   "name": "python",
   "nbconvert_exporter": "python",
   "pygments_lexer": "ipython3",
   "version": "3.8.8"
  }
 },
 "nbformat": 4,
 "nbformat_minor": 5
}
