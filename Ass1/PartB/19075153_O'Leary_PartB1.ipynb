{
 "cells": [
  {
   "cell_type": "code",
   "execution_count": 1,
   "id": "e10de8a2-eb2c-4c81-9d0f-e52fd9f1cb1a",
   "metadata": {},
   "outputs": [],
   "source": [
    "# Feature Extraction with Univariate Statistical Tests (Chi-squared for classification)\n",
    "import pandas\n",
    "import numpy as np\n",
    "from sklearn.model_selection import train_test_split, cross_val_score\n",
    "from sklearn.feature_selection import SelectKBest\n",
    "from sklearn.feature_selection import chi2\n",
    "from sklearn.linear_model import LogisticRegression\n",
    "from sklearn.feature_selection import RFE\n",
    "from sklearn.neural_network import MLPClassifier\n",
    "from sklearn.metrics import accuracy_score\n",
    "from sklearn.decomposition import PCA"
   ]
  },
  {
   "cell_type": "markdown",
   "id": "b7420e6e-90f5-4d30-a2d3-ef2815d970a1",
   "metadata": {},
   "source": [
    "# Data pre-processing performed\n",
    "\n",
    "Apply semi-colon delimitaion, remove the records that were classified \"unknown\" \n",
    "\n",
    "Turn all parameters into categorical (numerical) values\n",
    "\n",
    "Parameters adjusted are min_samples_leaf and min_samples_split"
   ]
  },
  {
   "cell_type": "code",
   "execution_count": 3,
   "id": "646f4ef7-a2a8-4a6f-9e31-e516dd5603c1",
   "metadata": {},
   "outputs": [
    {
     "ename": "KeyboardInterrupt",
     "evalue": "",
     "output_type": "error",
     "traceback": [
      "\u001b[0;31m---------------------------------------------------------------------------\u001b[0m",
      "\u001b[0;31mKeyboardInterrupt\u001b[0m                         Traceback (most recent call last)",
      "\u001b[0;32m/tmp/ipykernel_10072/2725239433.py\u001b[0m in \u001b[0;36m<module>\u001b[0;34m\u001b[0m\n\u001b[1;32m      7\u001b[0m \u001b[0;34m\u001b[0m\u001b[0m\n\u001b[1;32m      8\u001b[0m \u001b[0;31m# Convert to categorical\u001b[0m\u001b[0;34m\u001b[0m\u001b[0;34m\u001b[0m\u001b[0;34m\u001b[0m\u001b[0m\n\u001b[0;32m----> 9\u001b[0;31m \u001b[0mlist_of_columns\u001b[0m \u001b[0;34m=\u001b[0m \u001b[0mknown_outcomes\u001b[0m\u001b[0;34m.\u001b[0m\u001b[0mcolumns\u001b[0m\u001b[0;34m\u001b[0m\u001b[0;34m\u001b[0m\u001b[0m\n\u001b[0m\u001b[1;32m     10\u001b[0m \u001b[0mknown_outcomes\u001b[0m\u001b[0;34m[\u001b[0m\u001b[0mlist_of_columns\u001b[0m\u001b[0;34m]\u001b[0m \u001b[0;34m=\u001b[0m \u001b[0mknown_outcomes\u001b[0m\u001b[0;34m[\u001b[0m\u001b[0mlist_of_columns\u001b[0m\u001b[0;34m]\u001b[0m\u001b[0;34m.\u001b[0m\u001b[0mapply\u001b[0m\u001b[0;34m(\u001b[0m\u001b[0;32mlambda\u001b[0m \u001b[0mcol\u001b[0m\u001b[0;34m:\u001b[0m\u001b[0mpandas\u001b[0m\u001b[0;34m.\u001b[0m\u001b[0mCategorical\u001b[0m\u001b[0;34m(\u001b[0m\u001b[0mcol\u001b[0m\u001b[0;34m)\u001b[0m\u001b[0;34m.\u001b[0m\u001b[0mcodes\u001b[0m\u001b[0;34m)\u001b[0m\u001b[0;34m\u001b[0m\u001b[0;34m\u001b[0m\u001b[0m\n\u001b[1;32m     11\u001b[0m \u001b[0;34m\u001b[0m\u001b[0m\n",
      "\u001b[0;32m/tmp/ipykernel_10072/2725239433.py\u001b[0m in \u001b[0;36m<module>\u001b[0;34m\u001b[0m\n\u001b[1;32m      7\u001b[0m \u001b[0;34m\u001b[0m\u001b[0m\n\u001b[1;32m      8\u001b[0m \u001b[0;31m# Convert to categorical\u001b[0m\u001b[0;34m\u001b[0m\u001b[0;34m\u001b[0m\u001b[0;34m\u001b[0m\u001b[0m\n\u001b[0;32m----> 9\u001b[0;31m \u001b[0mlist_of_columns\u001b[0m \u001b[0;34m=\u001b[0m \u001b[0mknown_outcomes\u001b[0m\u001b[0;34m.\u001b[0m\u001b[0mcolumns\u001b[0m\u001b[0;34m\u001b[0m\u001b[0;34m\u001b[0m\u001b[0m\n\u001b[0m\u001b[1;32m     10\u001b[0m \u001b[0mknown_outcomes\u001b[0m\u001b[0;34m[\u001b[0m\u001b[0mlist_of_columns\u001b[0m\u001b[0;34m]\u001b[0m \u001b[0;34m=\u001b[0m \u001b[0mknown_outcomes\u001b[0m\u001b[0;34m[\u001b[0m\u001b[0mlist_of_columns\u001b[0m\u001b[0;34m]\u001b[0m\u001b[0;34m.\u001b[0m\u001b[0mapply\u001b[0m\u001b[0;34m(\u001b[0m\u001b[0;32mlambda\u001b[0m \u001b[0mcol\u001b[0m\u001b[0;34m:\u001b[0m\u001b[0mpandas\u001b[0m\u001b[0;34m.\u001b[0m\u001b[0mCategorical\u001b[0m\u001b[0;34m(\u001b[0m\u001b[0mcol\u001b[0m\u001b[0;34m)\u001b[0m\u001b[0;34m.\u001b[0m\u001b[0mcodes\u001b[0m\u001b[0;34m)\u001b[0m\u001b[0;34m\u001b[0m\u001b[0;34m\u001b[0m\u001b[0m\n\u001b[1;32m     11\u001b[0m \u001b[0;34m\u001b[0m\u001b[0m\n",
      "\u001b[0;32m_pydevd_bundle/pydevd_cython.pyx\u001b[0m in \u001b[0;36m_pydevd_bundle.pydevd_cython.SafeCallWrapper.__call__\u001b[0;34m()\u001b[0m\n",
      "\u001b[0;32m_pydevd_bundle/pydevd_cython.pyx\u001b[0m in \u001b[0;36m_pydevd_bundle.pydevd_cython.PyDBFrame.trace_dispatch\u001b[0;34m()\u001b[0m\n",
      "\u001b[0;32m_pydevd_bundle/pydevd_cython.pyx\u001b[0m in \u001b[0;36m_pydevd_bundle.pydevd_cython.PyDBFrame.trace_dispatch\u001b[0;34m()\u001b[0m\n",
      "\u001b[0;32m_pydevd_bundle/pydevd_cython.pyx\u001b[0m in \u001b[0;36m_pydevd_bundle.pydevd_cython.PyDBFrame.trace_dispatch\u001b[0;34m()\u001b[0m\n",
      "\u001b[0;32m_pydevd_bundle/pydevd_cython.pyx\u001b[0m in \u001b[0;36m_pydevd_bundle.pydevd_cython.PyDBFrame.do_wait_suspend\u001b[0;34m()\u001b[0m\n",
      "\u001b[0;32m~/anaconda3/lib/python3.8/site-packages/debugpy/_vendored/pydevd/pydevd.py\u001b[0m in \u001b[0;36mdo_wait_suspend\u001b[0;34m(self, thread, frame, event, arg, exception_type)\u001b[0m\n\u001b[1;32m   1974\u001b[0m \u001b[0;34m\u001b[0m\u001b[0m\n\u001b[1;32m   1975\u001b[0m             \u001b[0;32mwith\u001b[0m \u001b[0mself\u001b[0m\u001b[0;34m.\u001b[0m\u001b[0m_threads_suspended_single_notification\u001b[0m\u001b[0;34m.\u001b[0m\u001b[0mnotify_thread_suspended\u001b[0m\u001b[0;34m(\u001b[0m\u001b[0mthread_id\u001b[0m\u001b[0;34m,\u001b[0m \u001b[0mstop_reason\u001b[0m\u001b[0;34m)\u001b[0m\u001b[0;34m:\u001b[0m\u001b[0;34m\u001b[0m\u001b[0;34m\u001b[0m\u001b[0m\n\u001b[0;32m-> 1976\u001b[0;31m                 \u001b[0mkeep_suspended\u001b[0m \u001b[0;34m=\u001b[0m \u001b[0mself\u001b[0m\u001b[0;34m.\u001b[0m\u001b[0m_do_wait_suspend\u001b[0m\u001b[0;34m(\u001b[0m\u001b[0mthread\u001b[0m\u001b[0;34m,\u001b[0m \u001b[0mframe\u001b[0m\u001b[0;34m,\u001b[0m \u001b[0mevent\u001b[0m\u001b[0;34m,\u001b[0m \u001b[0marg\u001b[0m\u001b[0;34m,\u001b[0m \u001b[0msuspend_type\u001b[0m\u001b[0;34m,\u001b[0m \u001b[0mfrom_this_thread\u001b[0m\u001b[0;34m,\u001b[0m \u001b[0mframes_tracker\u001b[0m\u001b[0;34m)\u001b[0m\u001b[0;34m\u001b[0m\u001b[0;34m\u001b[0m\u001b[0m\n\u001b[0m\u001b[1;32m   1977\u001b[0m \u001b[0;34m\u001b[0m\u001b[0m\n\u001b[1;32m   1978\u001b[0m         \u001b[0mframes_list\u001b[0m \u001b[0;34m=\u001b[0m \u001b[0;32mNone\u001b[0m\u001b[0;34m\u001b[0m\u001b[0;34m\u001b[0m\u001b[0m\n",
      "\u001b[0;32m~/anaconda3/lib/python3.8/site-packages/debugpy/_vendored/pydevd/pydevd.py\u001b[0m in \u001b[0;36m_do_wait_suspend\u001b[0;34m(self, thread, frame, event, arg, suspend_type, from_this_thread, frames_tracker)\u001b[0m\n\u001b[1;32m   2009\u001b[0m \u001b[0;34m\u001b[0m\u001b[0m\n\u001b[1;32m   2010\u001b[0m             \u001b[0mself\u001b[0m\u001b[0;34m.\u001b[0m\u001b[0mprocess_internal_commands\u001b[0m\u001b[0;34m(\u001b[0m\u001b[0;34m)\u001b[0m\u001b[0;34m\u001b[0m\u001b[0;34m\u001b[0m\u001b[0m\n\u001b[0;32m-> 2011\u001b[0;31m             \u001b[0mtime\u001b[0m\u001b[0;34m.\u001b[0m\u001b[0msleep\u001b[0m\u001b[0;34m(\u001b[0m\u001b[0;36m0.01\u001b[0m\u001b[0;34m)\u001b[0m\u001b[0;34m\u001b[0m\u001b[0;34m\u001b[0m\u001b[0m\n\u001b[0m\u001b[1;32m   2012\u001b[0m \u001b[0;34m\u001b[0m\u001b[0m\n\u001b[1;32m   2013\u001b[0m         \u001b[0mself\u001b[0m\u001b[0;34m.\u001b[0m\u001b[0mcancel_async_evaluation\u001b[0m\u001b[0;34m(\u001b[0m\u001b[0mget_current_thread_id\u001b[0m\u001b[0;34m(\u001b[0m\u001b[0mthread\u001b[0m\u001b[0;34m)\u001b[0m\u001b[0;34m,\u001b[0m \u001b[0mstr\u001b[0m\u001b[0;34m(\u001b[0m\u001b[0mid\u001b[0m\u001b[0;34m(\u001b[0m\u001b[0mframe\u001b[0m\u001b[0;34m)\u001b[0m\u001b[0;34m)\u001b[0m\u001b[0;34m)\u001b[0m\u001b[0;34m\u001b[0m\u001b[0;34m\u001b[0m\u001b[0m\n",
      "\u001b[0;31mKeyboardInterrupt\u001b[0m: "
     ]
    }
   ],
   "source": [
    "# load data\n",
    "path = \"bank/bank.csv\"\n",
    "rawdata = pandas.read_csv(path, sep=';')\n",
    "\n",
    "# filter to exclude records where the outcome of the marketing campaign was unknown \n",
    "known_outcomes = rawdata[rawdata[\"poutcome\"] != \"unknown\"]\n",
    "\n",
    "# Convert to categorical\n",
    "list_of_columns = known_outcomes.columns\n",
    "known_outcomes[list_of_columns] = known_outcomes[list_of_columns].apply(lambda col:pandas.Categorical(col).codes)\n",
    "\n",
    "array = known_outcomes.values\n",
    "nrow, ncol = known_outcomes.shape\n",
    "X = array[:, 0:16]\n",
    "Y = array[:, 16]"
   ]
  },
  {
   "cell_type": "markdown",
   "id": "2e0d4b15-1af1-4f8c-a915-33e6cf1e8bc6",
   "metadata": {},
   "source": [
    "# Feature selection\n",
    "\n",
    "Feature Extraction with RFE with LogisticRegression Wrapper gives the best accuracy of 0.8"
   ]
  },
  {
   "cell_type": "code",
   "execution_count": null,
   "id": "e6ba6dfb-9182-40e0-b817-6900714d9a16",
   "metadata": {},
   "outputs": [
    {
     "name": "stdout",
     "output_type": "stream",
     "text": [
      "Accuracy score of our model without feature selection : 0.76\n",
      "[2.742e+01 8.645e+00 4.448e-04 1.461e+00 1.860e-02 1.339e+03 1.719e+01\n",
      " 5.028e+00 1.071e-02 8.913e+00 1.487e+00 9.006e+03 5.781e+00 1.119e+03\n",
      " 1.089e+00 1.294e+02]\n",
      "[[ 13 569 188 227   0]\n",
      " [ 15 404 155 218   0]\n",
      " [ 15 295 115 108   0]\n",
      " [ 16 173 278 218   1]\n",
      " [ 23  25 258  83   0]] summerize features\n",
      "\n",
      "Accuracy score of our model with chi square feature selection : 0.74\n",
      "\n"
     ]
    },
    {
     "name": "stderr",
     "output_type": "stream",
     "text": [
      "/home/bernard/anaconda3/lib/python3.8/site-packages/sklearn/utils/validation.py:70: FutureWarning: Pass n_features_to_select=5 as keyword args. From version 1.0 (renaming of 0.25) passing these as positional arguments will result in an error\n",
      "  warnings.warn(f\"Pass {args_msg} as keyword args. From version \"\n",
      "/home/bernard/anaconda3/lib/python3.8/site-packages/sklearn/linear_model/_logistic.py:763: ConvergenceWarning: lbfgs failed to converge (status=1):\n",
      "STOP: TOTAL NO. of ITERATIONS REACHED LIMIT.\n",
      "\n",
      "Increase the number of iterations (max_iter) or scale the data as shown in:\n",
      "    https://scikit-learn.org/stable/modules/preprocessing.html\n",
      "Please also refer to the documentation for alternative solver options:\n",
      "    https://scikit-learn.org/stable/modules/linear_model.html#logistic-regression\n",
      "  n_iter_i = _check_optimize_result(\n",
      "/home/bernard/anaconda3/lib/python3.8/site-packages/sklearn/linear_model/_logistic.py:763: ConvergenceWarning: lbfgs failed to converge (status=1):\n",
      "STOP: TOTAL NO. of ITERATIONS REACHED LIMIT.\n",
      "\n",
      "Increase the number of iterations (max_iter) or scale the data as shown in:\n",
      "    https://scikit-learn.org/stable/modules/preprocessing.html\n",
      "Please also refer to the documentation for alternative solver options:\n",
      "    https://scikit-learn.org/stable/modules/linear_model.html#logistic-regression\n",
      "  n_iter_i = _check_optimize_result(\n",
      "/home/bernard/anaconda3/lib/python3.8/site-packages/sklearn/linear_model/_logistic.py:763: ConvergenceWarning: lbfgs failed to converge (status=1):\n",
      "STOP: TOTAL NO. of ITERATIONS REACHED LIMIT.\n",
      "\n",
      "Increase the number of iterations (max_iter) or scale the data as shown in:\n",
      "    https://scikit-learn.org/stable/modules/preprocessing.html\n",
      "Please also refer to the documentation for alternative solver options:\n",
      "    https://scikit-learn.org/stable/modules/linear_model.html#logistic-regression\n",
      "  n_iter_i = _check_optimize_result(\n",
      "/home/bernard/anaconda3/lib/python3.8/site-packages/sklearn/linear_model/_logistic.py:763: ConvergenceWarning: lbfgs failed to converge (status=1):\n",
      "STOP: TOTAL NO. of ITERATIONS REACHED LIMIT.\n",
      "\n",
      "Increase the number of iterations (max_iter) or scale the data as shown in:\n",
      "    https://scikit-learn.org/stable/modules/preprocessing.html\n",
      "Please also refer to the documentation for alternative solver options:\n",
      "    https://scikit-learn.org/stable/modules/linear_model.html#logistic-regression\n",
      "  n_iter_i = _check_optimize_result(\n",
      "/home/bernard/anaconda3/lib/python3.8/site-packages/sklearn/linear_model/_logistic.py:763: ConvergenceWarning: lbfgs failed to converge (status=1):\n",
      "STOP: TOTAL NO. of ITERATIONS REACHED LIMIT.\n",
      "\n",
      "Increase the number of iterations (max_iter) or scale the data as shown in:\n",
      "    https://scikit-learn.org/stable/modules/preprocessing.html\n",
      "Please also refer to the documentation for alternative solver options:\n",
      "    https://scikit-learn.org/stable/modules/linear_model.html#logistic-regression\n",
      "  n_iter_i = _check_optimize_result(\n",
      "/home/bernard/anaconda3/lib/python3.8/site-packages/sklearn/linear_model/_logistic.py:763: ConvergenceWarning: lbfgs failed to converge (status=1):\n",
      "STOP: TOTAL NO. of ITERATIONS REACHED LIMIT.\n",
      "\n",
      "Increase the number of iterations (max_iter) or scale the data as shown in:\n",
      "    https://scikit-learn.org/stable/modules/preprocessing.html\n",
      "Please also refer to the documentation for alternative solver options:\n",
      "    https://scikit-learn.org/stable/modules/linear_model.html#logistic-regression\n",
      "  n_iter_i = _check_optimize_result(\n",
      "/home/bernard/anaconda3/lib/python3.8/site-packages/sklearn/linear_model/_logistic.py:763: ConvergenceWarning: lbfgs failed to converge (status=1):\n",
      "STOP: TOTAL NO. of ITERATIONS REACHED LIMIT.\n",
      "\n",
      "Increase the number of iterations (max_iter) or scale the data as shown in:\n",
      "    https://scikit-learn.org/stable/modules/preprocessing.html\n",
      "Please also refer to the documentation for alternative solver options:\n",
      "    https://scikit-learn.org/stable/modules/linear_model.html#logistic-regression\n",
      "  n_iter_i = _check_optimize_result(\n"
     ]
    },
    {
     "name": "stdout",
     "output_type": "stream",
     "text": [
      "Accuracy score of our model with RFE selection : 0.80\n",
      "\n",
      "Accuracy score of our model with PCA selection : 0.76\n",
      "\n",
      "[9.726e-03 1.254e-02 9.055e-04 8.011e-03 6.200e-05 2.384e-02 1.703e-01\n",
      " 3.132e-02 2.523e-03 1.170e-02 1.699e-02 2.554e-01 3.225e-03 7.409e-02\n",
      " 2.356e-03 3.770e-01]\n",
      "\n",
      "Accuracy score of our model with Extra Trees selection : 0.74\n",
      "\n"
     ]
    }
   ],
   "source": [
    "# generate model and get accuracy\n",
    "def get_accuracy(target_train, target_test, predicted_test, predicted_train):\n",
    "    clf = MLPClassifier(activation='logistic', solver='sgd', learning_rate_init=0.1, alpha=1e-5, hidden_layer_sizes=(5, 2), random_state=1,max_iter=2000)\n",
    "    clf.fit(predicted_train, np.ravel(target_train, order='C'))\n",
    "    predictions = clf.predict(predicted_test)\n",
    "    return accuracy_score(target_test, predictions)\n",
    "\n",
    "pred_train, pred_test, tar_train, tar_test = train_test_split(X, Y, test_size=.3, random_state=4)\n",
    "print(\"Accuracy score of our model without feature selection : %.2f\" % get_accuracy(tar_train, tar_test, pred_test, pred_train))\n",
    "\n",
    "# feature extraction\n",
    "test = SelectKBest(score_func=chi2, k=5)\n",
    "fit = test.fit(X, Y)\n",
    "# summarize scores\n",
    "np.set_printoptions(precision=3)\n",
    "print(fit.scores_)\n",
    "features = fit.transform(X)\n",
    "# summarize selected features\n",
    "print(features[0:5, :],\"summerize features\")\n",
    "print()\n",
    "# Now apply only the K most significant features according to the chi square method\n",
    "pred_features = features[:, 0:5]\n",
    "pred_train, pred_test, tar_train, tar_test = train_test_split(pred_features, Y, test_size=.3, random_state=2)\n",
    "print(\"Accuracy score of our model with chi square feature selection : %.2f\" % get_accuracy(tar_train, tar_test, pred_test,pred_train))\n",
    "print()\n",
    "\n",
    "## Feature Importance with Recursive Feature Extraction\n",
    "from sklearn.feature_selection import SelectFromModel\n",
    "# Feature Extraction with RFE\n",
    "model = LogisticRegression()  # Logistic regression is the Wrapper classifier here\n",
    "rfe = RFE(model, 5)\n",
    "fit = rfe.fit(X, Y)\n",
    "## summarize components\n",
    "#print(\"Num Features: %d\" % (fit.n_features_))\n",
    "#print(\"Selected Features: %s\" % (fit.support_))\n",
    "#print(\"Feature Ranking: %s\" % (fit.ranking_))\n",
    "## Now apply only the K most significant features according to the RFE feature selection method\n",
    "features = fit.transform(X)\n",
    "pred_features = features[:, 0:5]\n",
    "pred_train, pred_test, tar_train, tar_test = train_test_split(pred_features, Y, test_size=.3, random_state=2)\n",
    "print(\"Accuracy score of our model with RFE selection : %.2f\" % get_accuracy(tar_train, tar_test, pred_test,pred_train))\n",
    "print()\n",
    "\n",
    "## Feature Extraction with PCA\n",
    "## feature extraction\n",
    "pca = PCA(n_components=5)\n",
    "fit = pca.fit(X)\n",
    "features = fit.transform(X)\n",
    "## summarize components\n",
    "#print(\"Explained Variance: %s\" % (fit.explained_variance_ratio_))\n",
    "#print(fit.components_)\n",
    "## Now apply only the K most significant faetures (components) according to the PCA feature selection method\n",
    "#features = fit.transform(X)\n",
    "pred_features = features[:, 0:5]\n",
    "pred_train, pred_test, tar_train, tar_test = train_test_split(pred_features, Y, test_size=.3, random_state=2)\n",
    "print(\"Accuracy score of our model with PCA selection : %.2f\" % get_accuracy(tar_train, tar_test, pred_test,pred_train))\n",
    "print()\n",
    "\n",
    "## Feature Importance with Extra Trees Classifier\n",
    "from sklearn.ensemble import ExtraTreesClassifier\n",
    "## feature extraction\n",
    "model = ExtraTreesClassifier(max_depth=3,min_samples_leaf=2)\n",
    "fit = model.fit(X, Y)\n",
    "print(model.feature_importances_)\n",
    "print()\n",
    "t = SelectFromModel(fit, prefit=True)\n",
    "features = t.transform(X)\n",
    "pred_features = features[:, 0:5]\n",
    "pred_train, pred_test, tar_train, tar_test = train_test_split(pred_features, Y, test_size=.3, random_state=2)\n",
    "print(\"Accuracy score of our model with Extra Trees selection : %.2f\" % get_accuracy(tar_train, tar_test, pred_test, pred_train))\n",
    "print()\n"
   ]
  },
  {
   "cell_type": "markdown",
   "id": "d99cefb7-dbd0-4f13-9a34-d6ee2f4cde50",
   "metadata": {},
   "source": [
    "# Adjusting two suitable DTC parameters\n",
    "\n",
    "## Two best  parameters\n",
    "\n",
    "min_samples_leaf and min_samples_split\n",
    "\n",
    "https://scikit-learn.org/stable/modules/generated/sklearn.tree.DecisionTreeClassifier.html\n",
    "\n",
    "## Which of the two parameters yielded better accuracy while producing smaller trees? \n",
    "\n",
    "**min_samples_leaf** produced smaller trees with an optimised value, however neither parameter seemd to have any effect on the accuracy of the model training process, despite reducing the number of nodes in the tree."
   ]
  },
  {
   "cell_type": "code",
   "execution_count": null,
   "id": "909f7b7e-5b1c-4ed2-ad1c-9a0def60e92f",
   "metadata": {},
   "outputs": [
    {
     "name": "stdout",
     "output_type": "stream",
     "text": [
      "1.0 0.8285714285714286\n",
      "2.0 0.8448979591836735\n",
      "3.0 0.8204081632653061\n",
      "4.0 0.8367346938775511\n",
      "5.0 0.8163265306122449\n",
      "6.0 0.8326530612244898\n",
      "7.0 0.8285714285714286\n",
      "8.0 0.8326530612244898\n",
      "9.0 0.8244897959183674\n",
      "10.0 0.8367346938775511\n",
      "11.0 0.8204081632653061\n",
      "12.0 0.8081632653061225\n",
      "13.0 0.8285714285714286\n",
      "14.0 0.8285714285714286\n",
      "15.0 0.8204081632653061\n",
      "16.0 0.8326530612244898\n",
      "17.0 0.8122448979591836\n",
      "18.0 0.8244897959183674\n",
      "19.0 0.8122448979591836\n",
      "20.0 0.8204081632653061\n",
      "21.0 0.8163265306122449\n",
      "22.0 0.8285714285714286\n",
      "23.0 0.8081632653061225\n",
      "24.0 0.8244897959183674\n",
      "25.0 0.8163265306122449\n",
      "26.0 0.8081632653061225\n",
      "27.0 0.8122448979591836\n",
      "28.0 0.8326530612244898\n",
      "29.0 0.8081632653061225\n",
      "30.0 0.8163265306122449\n",
      "31.0 0.8163265306122449\n",
      "32.0 0.8163265306122449\n"
     ]
    },
    {
     "data": {
      "image/png": "[encoded data removed]",
      "text/plain": [
       "<Figure size 432x288 with 1 Axes>"
      ]
     },
     "metadata": {
      "needs_background": "light"
     },
     "output_type": "display_data"
    },
    {
     "name": "stdout",
     "output_type": "stream",
     "text": [
      "0.8301572897761644\n",
      "15\n"
     ]
    }
   ],
   "source": [
    "from sklearn.tree import DecisionTreeClassifier\n",
    "from sklearn.metrics import precision_score, recall_score, auc, roc_curve\n",
    "from sklearn.metrics import accuracy_score,confusion_matrix\n",
    "from matplotlib.legend_handler import HandlerLine2D\n",
    "import matplotlib.pyplot as plt\n",
    "from sklearn.model_selection import KFold\n",
    "\n",
    "# Get the average of the list\n",
    "def Average(lst):\n",
    "    return sum(lst) / len(lst)\n",
    "\n",
    "# Get the train/test split\n",
    "pred_train, pred_test, tar_train, tar_test = train_test_split(X, Y, test_size=.3, random_state=4)\n",
    "\n",
    "## Feature Importance with Extra Trees Classifier\n",
    "max_depths = np.linspace(1, 32, 32, endpoint=True)\n",
    "train_results = []\n",
    "test_results = []\n",
    "\n",
    "for max_depth in max_depths:\n",
    "   dt = DecisionTreeClassifier(max_depth=max_depth)\n",
    "   dt.fit(pred_train, tar_train)\n",
    "   train_pred = dt.predict(pred_train)\n",
    "   false_positive_rate, true_positive_rate, thresholds = roc_curve(tar_train, train_pred)\n",
    "   roc_auc = auc(false_positive_rate, true_positive_rate)\n",
    "   # Add auc score to previous train results\n",
    "   train_results.append(roc_auc)\n",
    "   y_pred = dt.predict(pred_test)\n",
    "   false_positive_rate, true_positive_rate, thresholds = roc_curve(tar_test, y_pred)\n",
    "   roc_auc = auc(false_positive_rate, true_positive_rate)\n",
    "   # Add auc score to previous test results\n",
    "   test_results.append(roc_auc)\n",
    "   print(max_depth, accuracy_score(tar_test, y_pred))\n",
    "    \n",
    "line1, = plt.plot(max_depths, train_results, 'b', label=\"Train AUC\")\n",
    "line2, = plt.plot(max_depths, test_results, 'r', label=\"Test AUC\")\n",
    "plt.legend(handler_map={line1: HandlerLine2D(numpoints=2)})\n",
    "plt.ylabel('AUC score')\n",
    "plt.xlabel('Tree depth')\n",
    "plt.show()\n",
    "\n",
    "# Optimun for avoiding over/underfitting but keeping below 15 nodes is 3\n",
    "dt = DecisionTreeClassifier(max_depth=3)\n",
    "kf = KFold(n_splits=10)\n",
    "dt.fit(pred_train, tar_train)\n",
    "print(Average(cross_val_score(dt, pred_train, tar_train, cv=kf, scoring='accuracy')))\n",
    "print(dt.tree_.node_count)"
   ]
  },
  {
   "cell_type": "code",
   "execution_count": null,
   "id": "a481d52d-a6c7-44f2-afa7-660a0aefdec0",
   "metadata": {},
   "outputs": [
    {
     "name": "stdout",
     "output_type": "stream",
     "text": [
      "0.1 0.8081632653061225\n",
      "0.2 0.8244897959183674\n",
      "0.30000000000000004 0.8285714285714286\n",
      "0.4 0.8285714285714286\n",
      "0.5 0.8285714285714286\n",
      "0.6 0.8285714285714286\n",
      "0.7000000000000001 0.8285714285714286\n",
      "0.8 0.8285714285714286\n",
      "0.9 0.8285714285714286\n",
      "1.0 0.8285714285714286\n"
     ]
    },
    {
     "data": {
      "image/png": "[encoded data removed]",
      "text/plain": [
       "<Figure size 432x288 with 1 Axes>"
      ]
     },
     "metadata": {
      "needs_background": "light"
     },
     "output_type": "display_data"
    },
    {
     "name": "stdout",
     "output_type": "stream",
     "text": [
      "0.8196612220205687\n",
      "13\n"
     ]
    }
   ],
   "source": [
    "min_samples_splits = np.linspace(0.1, 1.0, 10, endpoint=True)\n",
    "min_samples_splits\n",
    "train_results = []\n",
    "test_results = []\n",
    "\n",
    "for min_samples_split in min_samples_splits:\n",
    "   dt = DecisionTreeClassifier(min_samples_split=min_samples_split)\n",
    "   dt.fit(pred_train, tar_train)\n",
    "   train_pred = dt.predict(pred_train)\n",
    "   false_positive_rate, true_positive_rate, thresholds = roc_curve(tar_train, train_pred)\n",
    "   roc_auc = auc(false_positive_rate, true_positive_rate)\n",
    "   # Add auc score to previous train results\n",
    "   train_results.append(roc_auc)\n",
    "   y_pred = dt.predict(pred_test)\n",
    "   false_positive_rate, true_positive_rate, thresholds = roc_curve(tar_test, y_pred)\n",
    "   roc_auc = auc(false_positive_rate, true_positive_rate)\n",
    "   # Add auc score to previous test results\n",
    "   test_results.append(roc_auc)\n",
    "   print(min_samples_split, accuracy_score(tar_test, y_pred))\n",
    "    \n",
    "line1, = plt.plot(min_samples_splits, train_results, 'b', label=\"Train AUC\")\n",
    "line2, = plt.plot(min_samples_splits, test_results, 'r', label=\"Test AUC\")\n",
    "plt.legend(handler_map={line1: HandlerLine2D(numpoints=2)})\n",
    "plt.ylabel('AUC score')\n",
    "plt.xlabel('min samples split')\n",
    "plt.show()\n",
    "\n",
    "# Optimun for avoiding over/underfitting but keeping below 15 nodes is 0.3 \n",
    "dt = DecisionTreeClassifier(min_samples_split=0.3)\n",
    "kf = KFold(n_splits=10)\n",
    "dt.fit(pred_train, tar_train)\n",
    "print(Average(cross_val_score(dt, pred_train, tar_train, cv=kf, scoring='accuracy')))\n",
    "print(dt.tree_.node_count)"
   ]
  },
  {
   "cell_type": "code",
   "execution_count": null,
   "id": "91286586-b940-4fb5-a0da-a140ec80fe0f",
   "metadata": {},
   "outputs": [
    {
     "name": "stdout",
     "output_type": "stream",
     "text": [
      "1 0.7551020408163265\n",
      "2 0.8122448979591836\n",
      "3 0.7795918367346939\n",
      "4 0.8285714285714286\n",
      "5 0.7591836734693878\n",
      "6 0.7918367346938775\n",
      "7 0.8204081632653061\n",
      "8 0.7591836734693878\n",
      "9 0.8285714285714286\n",
      "10 0.7918367346938775\n",
      "11 0.7673469387755102\n",
      "12 0.7918367346938775\n",
      "13 0.8081632653061225\n",
      "14 0.8285714285714286\n",
      "15 0.8122448979591836\n"
     ]
    },
    {
     "data": {
      "image/png": "[encoded data removed]",
      "text/plain": [
       "<Figure size 432x288 with 1 Axes>"
      ]
     },
     "metadata": {
      "needs_background": "light"
     },
     "output_type": "display_data"
    },
    {
     "name": "stdout",
     "output_type": "stream",
     "text": [
      "0.7810647307924985\n",
      "151\n"
     ]
    }
   ],
   "source": [
    "max_features = list(range(1,X.shape[1]))\n",
    "train_results = []\n",
    "test_results = []\n",
    "\n",
    "for max_feature in max_features:\n",
    "   dt = DecisionTreeClassifier(max_features=max_feature)\n",
    "   dt.fit(pred_train, tar_train)\n",
    "   train_pred = dt.predict(pred_train)\n",
    "   false_positive_rate, true_positive_rate, thresholds = roc_curve(tar_train, train_pred)\n",
    "   roc_auc = auc(false_positive_rate, true_positive_rate)\n",
    "   # Add auc score to previous train results\n",
    "   train_results.append(roc_auc)\n",
    "   y_pred = dt.predict(pred_test)\n",
    "   false_positive_rate, true_positive_rate, thresholds = roc_curve(tar_test, y_pred)\n",
    "   roc_auc = auc(false_positive_rate, true_positive_rate)\n",
    "   # Add auc score to previous test results\n",
    "   test_results.append(roc_auc)\n",
    "   print(max_feature, accuracy_score(tar_test, y_pred))\n",
    "    \n",
    "line1, = plt.plot(max_features, train_results, 'b', label=\"Train AUC\")\n",
    "line2, = plt.plot(max_features, test_results, 'r', label=\"Test AUC\")\n",
    "plt.legend(handler_map={line1: HandlerLine2D(numpoints=2)})\n",
    "plt.ylabel('AUC score')\n",
    "plt.xlabel('max features')\n",
    "plt.show()\n",
    "\n",
    "# Unable be stay nnder 15 nodes by a long sot, but the more features the less nodes\n",
    "dt = DecisionTreeClassifier(max_features=16)\n",
    "kf = KFold(n_splits=10)\n",
    "dt.fit(pred_train, tar_train)\n",
    "print(Average(cross_val_score(dt, pred_train, tar_train, cv=kf, scoring='accuracy')))\n",
    "print(dt.tree_.node_count)"
   ]
  },
  {
   "cell_type": "code",
   "execution_count": null,
   "id": "091200a9-e9bd-49f5-b5fb-2e296c72b679",
   "metadata": {},
   "outputs": [
    {
     "name": "stdout",
     "output_type": "stream",
     "text": [
      "0.1 0.8285714285714286\n",
      "0.2 0.8040816326530612\n",
      "0.30000000000000004 0.8244897959183674\n",
      "0.4 0.8244897959183674\n",
      "0.5 0.8244897959183674\n"
     ]
    },
    {
     "data": {
      "image/png": "[encoded data removed]",
      "text/plain": [
       "<Figure size 432x288 with 1 Axes>"
      ]
     },
     "metadata": {
      "needs_background": "light"
     },
     "output_type": "display_data"
    },
    {
     "name": "stdout",
     "output_type": "stream",
     "text": [
      "0.7827888687235329\n",
      "7\n"
     ]
    }
   ],
   "source": [
    "min_samples_leafs = np.linspace(0.1, 0.5, 5, endpoint=True)\n",
    "train_results = []\n",
    "test_results = []\n",
    "\n",
    "for min_samples_leaf in min_samples_leafs:\n",
    "   dt = DecisionTreeClassifier(min_samples_leaf=min_samples_leaf)\n",
    "   dt.fit(pred_train, tar_train)\n",
    "   train_pred = dt.predict(pred_train)\n",
    "   false_positive_rate, true_positive_rate, thresholds = roc_curve(tar_train, train_pred)\n",
    "   roc_auc = auc(false_positive_rate, true_positive_rate)\n",
    "   # Add auc score to previous train results\n",
    "   train_results.append(roc_auc)\n",
    "   y_pred = dt.predict(pred_test)\n",
    "   false_positive_rate, true_positive_rate, thresholds = roc_curve(tar_test, y_pred)\n",
    "   roc_auc = auc(false_positive_rate, true_positive_rate)\n",
    "   # Add auc score to previous test results\n",
    "   test_results.append(roc_auc)\n",
    "   print(min_samples_leaf, accuracy_score(tar_test, y_pred))\n",
    "    \n",
    "line1, = plt.plot(min_samples_leafs, train_results, 'b', label=\"Train AUC\")\n",
    "line2, = plt.plot(min_samples_leafs, test_results, 'r', label=\"Test AUC\")\n",
    "plt.legend(handler_map={line1: HandlerLine2D(numpoints=2)})\n",
    "plt.ylabel('AUC score')\n",
    "plt.xlabel('min samples leaf')\n",
    "plt.show()\n",
    "\n",
    "# Optimun for avoiding over/underfitting but keeping below 15 nodes is 0.2\n",
    "dt = DecisionTreeClassifier(min_samples_leaf=0.2)\n",
    "kf = KFold(n_splits=10)\n",
    "dt.fit(pred_train, tar_train)\n",
    "print(Average(cross_val_score(dt, pred_train, tar_train, cv=kf, scoring='accuracy')))\n",
    "print(dt.tree_.node_count)"
   ]
  },
  {
   "cell_type": "markdown",
   "id": "6cd16071-74f1-46d1-b99c-2f41cc2486e6",
   "metadata": {},
   "source": [
    "# Describe the role of the two parameters\n",
    "\n",
    "## min_samples_split (int or float, default=2)\n",
    "\n",
    "The minimum number of samples required to split an internal node:\n",
    "\n",
    "If int, then consider min_samples_split as the minimum number.\n",
    "\n",
    "If float, then min_samples_split is a fraction and ceil(min_samples_split * n_samples) are the minimum number of samples for each split.\n",
    "\n",
    "Changed in version 0.18: Added float values for fractions.\n",
    "\n",
    "## min_samples_leaf (int or float, default=1)\n",
    "\n",
    "The minimum number of samples required to be at a leaf node. A split point at any depth will only be considered if it leaves at least min_samples_leaf training samples in each of the left and right branches. This may have the effect of smoothing the model, especially in regression.\n",
    "\n",
    "If int, then consider min_samples_leaf as the minimum number.\n",
    "\n",
    "If float, then min_samples_leaf is a fraction and ceil(min_samples_leaf * n_samples) are the minimum number of samples for each node.\n",
    "\n",
    "Changed in version 0.18: Added float values for fractions.\n",
    "\n",
    "## Will the same apply for other dataset?\n",
    "\n",
    "Depends on the type of dataset, how\n"
   ]
  },
  {
   "cell_type": "markdown",
   "id": "0782b18a-65a2-4db8-a153-505817701a1c",
   "metadata": {},
   "source": [
    "# Confusion Matrix"
   ]
  },
  {
   "cell_type": "code",
   "execution_count": null,
   "id": "6d78cef6-cb42-47a7-b83d-9dc538512f4b",
   "metadata": {},
   "outputs": [
    {
     "name": "stdout",
     "output_type": "stream",
     "text": [
      "0.7827888687235329\n",
      "7\n",
      "Confusion matrix, without normalization\n",
      "[[175  27]\n",
      " [ 21  22]]\n",
      "Normalized confusion matrix\n",
      "[[0.866 0.134]\n",
      " [0.488 0.512]]\n"
     ]
    },
    {
     "data": {
      "image/png": "[encoded data removed]",
      "text/plain": [
       "<Figure size 432x288 with 2 Axes>"
      ]
     },
     "metadata": {
      "needs_background": "light"
     },
     "output_type": "display_data"
    },
    {
     "data": {
      "image/png": "[encoded data removed]",
      "text/plain": [
       "<Figure size 432x288 with 2 Axes>"
      ]
     },
     "metadata": {
      "needs_background": "light"
     },
     "output_type": "display_data"
    }
   ],
   "source": [
    "import numpy as np\n",
    "import matplotlib.pyplot as plt\n",
    "\n",
    "from sklearn import svm, datasets\n",
    "from sklearn.model_selection import train_test_split\n",
    "from sklearn.metrics import plot_confusion_matrix\n",
    "\n",
    "# Get the train/test split\n",
    "pred_train, pred_test, tar_train, tar_test = train_test_split(X, Y, test_size=.3, random_state=4)\n",
    "\n",
    "dt = DecisionTreeClassifier(min_samples_leaf=0.2, min_samples_split=0.3)\n",
    "kf = KFold(n_splits=10)\n",
    "dt.fit(pred_train, tar_train)\n",
    "train_pred = dt.predict(pred_train)\n",
    "print(Average(cross_val_score(dt, pred_train, tar_train, cv=kf, scoring='accuracy')))\n",
    "print(dt.tree_.node_count)\n",
    "\n",
    "# Plot non-normalized confusion matrix\n",
    "titles_options = [(\"Confusion matrix, without normalization\", None),\n",
    "                  (\"Normalized confusion matrix\", 'true')]\n",
    "for title, normalize in titles_options:\n",
    "    disp = plot_confusion_matrix(dt, pred_test, tar_test,\n",
    "                                 display_labels=['yes','no'],\n",
    "                                 cmap=plt.cm.Blues,\n",
    "                                 normalize=normalize)\n",
    "    disp.ax_.set_title(title)\n",
    "\n",
    "    print(title)\n",
    "    print(disp.confusion_matrix)\n",
    "\n",
    "plt.xlabel('Predictions', fontsize=18)\n",
    "plt.ylabel('Actuals', fontsize=18)\n",
    "plt.show()"
   ]
  },
  {
   "cell_type": "code",
   "execution_count": null,
   "id": "933942aa-d62d-41a2-b1a8-2c79cdae2e27",
   "metadata": {},
   "outputs": [],
   "source": []
  }
 ],
 "metadata": {
  "interpreter": {
   "hash": "c9f20737e2f9de6576c2e3344538db4438e178ffafb181ca319095bbb4080fb5"
  },
  "kernelspec": {
   "display_name": "Python 3 (ipykernel)",
   "language": "python",
   "name": "python3"
  },
  "language_info": {
   "codemirror_mode": {
    "name": "ipython",
    "version": 3
   },
   "file_extension": ".py",
   "mimetype": "text/x-python",
   "name": "python",
   "nbconvert_exporter": "python",
   "pygments_lexer": "ipython3",
   "version": "3.8.8"
  }
 },
 "nbformat": 4,
 "nbformat_minor": 5
}
